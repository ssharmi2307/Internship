{
 "cells": [
  {
   "cell_type": "markdown",
   "id": "38a61d57",
   "metadata": {},
   "source": [
    "# TASK 1 CLUSTERING"
   ]
  },
  {
   "cell_type": "code",
   "execution_count": 1,
   "id": "ae86bb5a",
   "metadata": {},
   "outputs": [],
   "source": [
    "import warnings"
   ]
  },
  {
   "cell_type": "code",
   "execution_count": 2,
   "id": "4312f164",
   "metadata": {},
   "outputs": [],
   "source": [
    "warnings.filterwarnings('ignore')"
   ]
  },
  {
   "cell_type": "code",
   "execution_count": 3,
   "id": "3492b8d5",
   "metadata": {},
   "outputs": [],
   "source": [
    "import pandas as pd"
   ]
  },
  {
   "cell_type": "code",
   "execution_count": 9,
   "id": "122f3f6b",
   "metadata": {},
   "outputs": [],
   "source": [
    "df_train=pd.read_excel(\"C:\\\\Users\\\\Gopinath\\\\Downloads\\\\Task1and2-20240208T083604Z-001\\\\Task1and2\\\\train.xlsx\")"
   ]
  },
  {
   "cell_type": "code",
   "execution_count": 8,
   "id": "685b729f",
   "metadata": {},
   "outputs": [
    {
     "data": {
      "text/plain": [
       "(36752, 19)"
      ]
     },
     "execution_count": 8,
     "metadata": {},
     "output_type": "execute_result"
    }
   ],
   "source": [
    "df_train.shape"
   ]
  },
  {
   "cell_type": "code",
   "execution_count": 10,
   "id": "b1bdb266",
   "metadata": {},
   "outputs": [],
   "source": [
    "df_test=pd.read_excel(\"C:\\\\Users\\\\Gopinath\\\\Downloads\\\\Task1and2-20240208T083604Z-001\\\\Task1and2\\\\test.xlsx\")"
   ]
  },
  {
   "cell_type": "code",
   "execution_count": 11,
   "id": "602125fa",
   "metadata": {},
   "outputs": [
    {
     "data": {
      "text/plain": [
       "(15752, 18)"
      ]
     },
     "execution_count": 11,
     "metadata": {},
     "output_type": "execute_result"
    }
   ],
   "source": [
    "df_test.shape"
   ]
  },
  {
   "cell_type": "code",
   "execution_count": 12,
   "id": "684c6740",
   "metadata": {},
   "outputs": [
    {
     "name": "stdout",
     "output_type": "stream",
     "text": [
      "<class 'pandas.core.frame.DataFrame'>\n",
      "RangeIndex: 36752 entries, 0 to 36751\n",
      "Data columns (total 19 columns):\n",
      " #   Column  Non-Null Count  Dtype  \n",
      "---  ------  --------------  -----  \n",
      " 0   T1      36752 non-null  float64\n",
      " 1   T2      36752 non-null  float64\n",
      " 2   T3      36752 non-null  float64\n",
      " 3   T4      36752 non-null  float64\n",
      " 4   T5      36752 non-null  float64\n",
      " 5   T6      36752 non-null  float64\n",
      " 6   T7      36752 non-null  float64\n",
      " 7   T8      36752 non-null  float64\n",
      " 8   T9      36752 non-null  float64\n",
      " 9   T10     36752 non-null  float64\n",
      " 10  T11     36752 non-null  float64\n",
      " 11  T12     36752 non-null  float64\n",
      " 12  T13     36752 non-null  float64\n",
      " 13  T14     36752 non-null  float64\n",
      " 14  T15     36752 non-null  float64\n",
      " 15  T16     36752 non-null  float64\n",
      " 16  T17     36752 non-null  float64\n",
      " 17  T18     36752 non-null  float64\n",
      " 18  target  36752 non-null  object \n",
      "dtypes: float64(18), object(1)\n",
      "memory usage: 5.3+ MB\n"
     ]
    }
   ],
   "source": [
    "df_train.info()"
   ]
  },
  {
   "cell_type": "code",
   "execution_count": 13,
   "id": "4a35b9ea",
   "metadata": {},
   "outputs": [
    {
     "name": "stdout",
     "output_type": "stream",
     "text": [
      "<class 'pandas.core.frame.DataFrame'>\n",
      "RangeIndex: 15752 entries, 0 to 15751\n",
      "Data columns (total 18 columns):\n",
      " #   Column  Non-Null Count  Dtype  \n",
      "---  ------  --------------  -----  \n",
      " 0   T1      15752 non-null  float64\n",
      " 1   T2      15752 non-null  float64\n",
      " 2   T3      15752 non-null  float64\n",
      " 3   T4      15752 non-null  float64\n",
      " 4   T5      15752 non-null  float64\n",
      " 5   T6      15752 non-null  float64\n",
      " 6   T7      15752 non-null  float64\n",
      " 7   T8      15752 non-null  float64\n",
      " 8   T9      15752 non-null  float64\n",
      " 9   T10     15752 non-null  float64\n",
      " 10  T11     15752 non-null  float64\n",
      " 11  T12     15752 non-null  float64\n",
      " 12  T13     15752 non-null  float64\n",
      " 13  T14     15752 non-null  float64\n",
      " 14  T15     15752 non-null  float64\n",
      " 15  T16     15752 non-null  float64\n",
      " 16  T17     15752 non-null  float64\n",
      " 17  T18     15752 non-null  float64\n",
      "dtypes: float64(18)\n",
      "memory usage: 2.2 MB\n"
     ]
    }
   ],
   "source": [
    "df_test.info()"
   ]
  },
  {
   "cell_type": "code",
   "execution_count": 31,
   "id": "4d7e67ff",
   "metadata": {},
   "outputs": [],
   "source": [
    "x_train=df_train.iloc[0:,0:18]"
   ]
  },
  {
   "cell_type": "code",
   "execution_count": 33,
   "id": "de802f50",
   "metadata": {},
   "outputs": [],
   "source": [
    "y_train=df_train.iloc[0:,18]"
   ]
  },
  {
   "cell_type": "code",
   "execution_count": 32,
   "id": "d0c78530",
   "metadata": {},
   "outputs": [
    {
     "data": {
      "text/html": [
       "<div>\n",
       "<style scoped>\n",
       "    .dataframe tbody tr th:only-of-type {\n",
       "        vertical-align: middle;\n",
       "    }\n",
       "\n",
       "    .dataframe tbody tr th {\n",
       "        vertical-align: top;\n",
       "    }\n",
       "\n",
       "    .dataframe thead th {\n",
       "        text-align: right;\n",
       "    }\n",
       "</style>\n",
       "<table border=\"1\" class=\"dataframe\">\n",
       "  <thead>\n",
       "    <tr style=\"text-align: right;\">\n",
       "      <th></th>\n",
       "      <th>T1</th>\n",
       "      <th>T2</th>\n",
       "      <th>T3</th>\n",
       "      <th>T4</th>\n",
       "      <th>T5</th>\n",
       "      <th>T6</th>\n",
       "      <th>T7</th>\n",
       "      <th>T8</th>\n",
       "      <th>T9</th>\n",
       "      <th>T10</th>\n",
       "      <th>T11</th>\n",
       "      <th>T12</th>\n",
       "      <th>T13</th>\n",
       "      <th>T14</th>\n",
       "      <th>T15</th>\n",
       "      <th>T16</th>\n",
       "      <th>T17</th>\n",
       "      <th>T18</th>\n",
       "    </tr>\n",
       "  </thead>\n",
       "  <tbody>\n",
       "    <tr>\n",
       "      <th>0</th>\n",
       "      <td>-70.0</td>\n",
       "      <td>-61.0</td>\n",
       "      <td>-66.0</td>\n",
       "      <td>-53.0</td>\n",
       "      <td>-51.0</td>\n",
       "      <td>-63.0</td>\n",
       "      <td>-82.0</td>\n",
       "      <td>-57.0</td>\n",
       "      <td>-76.0</td>\n",
       "      <td>-78.0</td>\n",
       "      <td>-66.0</td>\n",
       "      <td>-66.0</td>\n",
       "      <td>-61.0</td>\n",
       "      <td>-59.0</td>\n",
       "      <td>-73.0</td>\n",
       "      <td>-75.0</td>\n",
       "      <td>-63.0</td>\n",
       "      <td>-77.0</td>\n",
       "    </tr>\n",
       "    <tr>\n",
       "      <th>1</th>\n",
       "      <td>-77.0</td>\n",
       "      <td>-74.0</td>\n",
       "      <td>-71.0</td>\n",
       "      <td>-76.0</td>\n",
       "      <td>-65.0</td>\n",
       "      <td>-63.0</td>\n",
       "      <td>-66.0</td>\n",
       "      <td>-52.0</td>\n",
       "      <td>-55.0</td>\n",
       "      <td>-75.0</td>\n",
       "      <td>-72.0</td>\n",
       "      <td>-75.0</td>\n",
       "      <td>-74.0</td>\n",
       "      <td>-61.0</td>\n",
       "      <td>-64.0</td>\n",
       "      <td>-63.0</td>\n",
       "      <td>-53.0</td>\n",
       "      <td>-63.0</td>\n",
       "    </tr>\n",
       "    <tr>\n",
       "      <th>2</th>\n",
       "      <td>-53.0</td>\n",
       "      <td>-38.0</td>\n",
       "      <td>-55.0</td>\n",
       "      <td>-66.0</td>\n",
       "      <td>-62.0</td>\n",
       "      <td>-62.0</td>\n",
       "      <td>-65.0</td>\n",
       "      <td>-70.0</td>\n",
       "      <td>-62.0</td>\n",
       "      <td>-52.0</td>\n",
       "      <td>-56.0</td>\n",
       "      <td>-53.0</td>\n",
       "      <td>-66.0</td>\n",
       "      <td>-68.0</td>\n",
       "      <td>-72.0</td>\n",
       "      <td>-60.0</td>\n",
       "      <td>-68.0</td>\n",
       "      <td>-77.0</td>\n",
       "    </tr>\n",
       "    <tr>\n",
       "      <th>3</th>\n",
       "      <td>-72.0</td>\n",
       "      <td>-62.0</td>\n",
       "      <td>-59.0</td>\n",
       "      <td>-65.0</td>\n",
       "      <td>-65.0</td>\n",
       "      <td>-65.0</td>\n",
       "      <td>-78.0</td>\n",
       "      <td>-82.0</td>\n",
       "      <td>-83.0</td>\n",
       "      <td>-59.0</td>\n",
       "      <td>-84.0</td>\n",
       "      <td>-60.0</td>\n",
       "      <td>-64.0</td>\n",
       "      <td>-83.0</td>\n",
       "      <td>-69.0</td>\n",
       "      <td>-72.0</td>\n",
       "      <td>-95.0</td>\n",
       "      <td>-73.0</td>\n",
       "    </tr>\n",
       "    <tr>\n",
       "      <th>4</th>\n",
       "      <td>-67.0</td>\n",
       "      <td>-69.0</td>\n",
       "      <td>-65.0</td>\n",
       "      <td>-63.0</td>\n",
       "      <td>-59.0</td>\n",
       "      <td>-53.0</td>\n",
       "      <td>-70.0</td>\n",
       "      <td>-72.0</td>\n",
       "      <td>-71.0</td>\n",
       "      <td>-60.0</td>\n",
       "      <td>-61.0</td>\n",
       "      <td>-57.0</td>\n",
       "      <td>-54.0</td>\n",
       "      <td>-76.0</td>\n",
       "      <td>-61.0</td>\n",
       "      <td>-66.0</td>\n",
       "      <td>-71.0</td>\n",
       "      <td>-80.0</td>\n",
       "    </tr>\n",
       "    <tr>\n",
       "      <th>...</th>\n",
       "      <td>...</td>\n",
       "      <td>...</td>\n",
       "      <td>...</td>\n",
       "      <td>...</td>\n",
       "      <td>...</td>\n",
       "      <td>...</td>\n",
       "      <td>...</td>\n",
       "      <td>...</td>\n",
       "      <td>...</td>\n",
       "      <td>...</td>\n",
       "      <td>...</td>\n",
       "      <td>...</td>\n",
       "      <td>...</td>\n",
       "      <td>...</td>\n",
       "      <td>...</td>\n",
       "      <td>...</td>\n",
       "      <td>...</td>\n",
       "      <td>...</td>\n",
       "    </tr>\n",
       "    <tr>\n",
       "      <th>36747</th>\n",
       "      <td>-68.0</td>\n",
       "      <td>-62.0</td>\n",
       "      <td>-64.0</td>\n",
       "      <td>-59.0</td>\n",
       "      <td>-59.0</td>\n",
       "      <td>-71.0</td>\n",
       "      <td>-67.0</td>\n",
       "      <td>-73.0</td>\n",
       "      <td>-73.0</td>\n",
       "      <td>-69.0</td>\n",
       "      <td>-71.0</td>\n",
       "      <td>-75.0</td>\n",
       "      <td>-56.0</td>\n",
       "      <td>-68.0</td>\n",
       "      <td>-68.0</td>\n",
       "      <td>-75.0</td>\n",
       "      <td>-75.0</td>\n",
       "      <td>-95.0</td>\n",
       "    </tr>\n",
       "    <tr>\n",
       "      <th>36748</th>\n",
       "      <td>-56.0</td>\n",
       "      <td>-50.0</td>\n",
       "      <td>-57.0</td>\n",
       "      <td>-50.0</td>\n",
       "      <td>-59.0</td>\n",
       "      <td>-60.0</td>\n",
       "      <td>-62.0</td>\n",
       "      <td>-69.0</td>\n",
       "      <td>-58.0</td>\n",
       "      <td>-64.0</td>\n",
       "      <td>-49.0</td>\n",
       "      <td>-61.0</td>\n",
       "      <td>-58.0</td>\n",
       "      <td>-56.0</td>\n",
       "      <td>-60.0</td>\n",
       "      <td>-58.0</td>\n",
       "      <td>-59.0</td>\n",
       "      <td>-64.0</td>\n",
       "    </tr>\n",
       "    <tr>\n",
       "      <th>36749</th>\n",
       "      <td>-42.0</td>\n",
       "      <td>-58.0</td>\n",
       "      <td>-72.0</td>\n",
       "      <td>-70.0</td>\n",
       "      <td>-75.0</td>\n",
       "      <td>-72.0</td>\n",
       "      <td>-76.0</td>\n",
       "      <td>-84.0</td>\n",
       "      <td>-84.0</td>\n",
       "      <td>-59.0</td>\n",
       "      <td>-65.0</td>\n",
       "      <td>-68.0</td>\n",
       "      <td>-65.0</td>\n",
       "      <td>-81.0</td>\n",
       "      <td>-86.0</td>\n",
       "      <td>-70.0</td>\n",
       "      <td>-75.0</td>\n",
       "      <td>-74.0</td>\n",
       "    </tr>\n",
       "    <tr>\n",
       "      <th>36750</th>\n",
       "      <td>-50.0</td>\n",
       "      <td>-50.0</td>\n",
       "      <td>-70.0</td>\n",
       "      <td>-64.0</td>\n",
       "      <td>-64.0</td>\n",
       "      <td>-68.0</td>\n",
       "      <td>-68.0</td>\n",
       "      <td>-73.0</td>\n",
       "      <td>-79.0</td>\n",
       "      <td>-58.0</td>\n",
       "      <td>-61.0</td>\n",
       "      <td>-73.0</td>\n",
       "      <td>-67.0</td>\n",
       "      <td>-77.0</td>\n",
       "      <td>-73.0</td>\n",
       "      <td>-74.0</td>\n",
       "      <td>-72.0</td>\n",
       "      <td>-81.0</td>\n",
       "    </tr>\n",
       "    <tr>\n",
       "      <th>36751</th>\n",
       "      <td>-66.0</td>\n",
       "      <td>-64.0</td>\n",
       "      <td>-70.0</td>\n",
       "      <td>-62.0</td>\n",
       "      <td>-59.0</td>\n",
       "      <td>-62.0</td>\n",
       "      <td>-53.0</td>\n",
       "      <td>-58.0</td>\n",
       "      <td>-64.0</td>\n",
       "      <td>-80.0</td>\n",
       "      <td>-73.0</td>\n",
       "      <td>-83.0</td>\n",
       "      <td>-67.0</td>\n",
       "      <td>-61.0</td>\n",
       "      <td>-56.0</td>\n",
       "      <td>-61.0</td>\n",
       "      <td>-67.0</td>\n",
       "      <td>-65.0</td>\n",
       "    </tr>\n",
       "  </tbody>\n",
       "</table>\n",
       "<p>36752 rows × 18 columns</p>\n",
       "</div>"
      ],
      "text/plain": [
       "         T1    T2    T3    T4    T5    T6    T7    T8    T9   T10   T11   T12  \\\n",
       "0     -70.0 -61.0 -66.0 -53.0 -51.0 -63.0 -82.0 -57.0 -76.0 -78.0 -66.0 -66.0   \n",
       "1     -77.0 -74.0 -71.0 -76.0 -65.0 -63.0 -66.0 -52.0 -55.0 -75.0 -72.0 -75.0   \n",
       "2     -53.0 -38.0 -55.0 -66.0 -62.0 -62.0 -65.0 -70.0 -62.0 -52.0 -56.0 -53.0   \n",
       "3     -72.0 -62.0 -59.0 -65.0 -65.0 -65.0 -78.0 -82.0 -83.0 -59.0 -84.0 -60.0   \n",
       "4     -67.0 -69.0 -65.0 -63.0 -59.0 -53.0 -70.0 -72.0 -71.0 -60.0 -61.0 -57.0   \n",
       "...     ...   ...   ...   ...   ...   ...   ...   ...   ...   ...   ...   ...   \n",
       "36747 -68.0 -62.0 -64.0 -59.0 -59.0 -71.0 -67.0 -73.0 -73.0 -69.0 -71.0 -75.0   \n",
       "36748 -56.0 -50.0 -57.0 -50.0 -59.0 -60.0 -62.0 -69.0 -58.0 -64.0 -49.0 -61.0   \n",
       "36749 -42.0 -58.0 -72.0 -70.0 -75.0 -72.0 -76.0 -84.0 -84.0 -59.0 -65.0 -68.0   \n",
       "36750 -50.0 -50.0 -70.0 -64.0 -64.0 -68.0 -68.0 -73.0 -79.0 -58.0 -61.0 -73.0   \n",
       "36751 -66.0 -64.0 -70.0 -62.0 -59.0 -62.0 -53.0 -58.0 -64.0 -80.0 -73.0 -83.0   \n",
       "\n",
       "        T13   T14   T15   T16   T17   T18  \n",
       "0     -61.0 -59.0 -73.0 -75.0 -63.0 -77.0  \n",
       "1     -74.0 -61.0 -64.0 -63.0 -53.0 -63.0  \n",
       "2     -66.0 -68.0 -72.0 -60.0 -68.0 -77.0  \n",
       "3     -64.0 -83.0 -69.0 -72.0 -95.0 -73.0  \n",
       "4     -54.0 -76.0 -61.0 -66.0 -71.0 -80.0  \n",
       "...     ...   ...   ...   ...   ...   ...  \n",
       "36747 -56.0 -68.0 -68.0 -75.0 -75.0 -95.0  \n",
       "36748 -58.0 -56.0 -60.0 -58.0 -59.0 -64.0  \n",
       "36749 -65.0 -81.0 -86.0 -70.0 -75.0 -74.0  \n",
       "36750 -67.0 -77.0 -73.0 -74.0 -72.0 -81.0  \n",
       "36751 -67.0 -61.0 -56.0 -61.0 -67.0 -65.0  \n",
       "\n",
       "[36752 rows x 18 columns]"
      ]
     },
     "execution_count": 32,
     "metadata": {},
     "output_type": "execute_result"
    }
   ],
   "source": [
    "x_train"
   ]
  },
  {
   "cell_type": "code",
   "execution_count": 34,
   "id": "785f72c4",
   "metadata": {},
   "outputs": [
    {
     "data": {
      "text/plain": [
       "0        B37\n",
       "1        B61\n",
       "2        A19\n",
       "3        A22\n",
       "4        A33\n",
       "        ... \n",
       "36747    B34\n",
       "36748    B15\n",
       "36749     A6\n",
       "36750     B2\n",
       "36751    B45\n",
       "Name: target, Length: 36752, dtype: object"
      ]
     },
     "execution_count": 34,
     "metadata": {},
     "output_type": "execute_result"
    }
   ],
   "source": [
    "y_train"
   ]
  },
  {
   "cell_type": "code",
   "execution_count": 39,
   "id": "9730988f",
   "metadata": {},
   "outputs": [],
   "source": [
    "from sklearn.cluster import KMeans"
   ]
  },
  {
   "cell_type": "code",
   "execution_count": 41,
   "id": "ea80215b",
   "metadata": {},
   "outputs": [],
   "source": [
    "kmeans=KMeans(n_clusters=3,random_state=0)"
   ]
  },
  {
   "cell_type": "code",
   "execution_count": 42,
   "id": "2c7f924c",
   "metadata": {},
   "outputs": [
    {
     "data": {
      "text/html": [
       "<style>#sk-container-id-1 {color: black;background-color: white;}#sk-container-id-1 pre{padding: 0;}#sk-container-id-1 div.sk-toggleable {background-color: white;}#sk-container-id-1 label.sk-toggleable__label {cursor: pointer;display: block;width: 100%;margin-bottom: 0;padding: 0.3em;box-sizing: border-box;text-align: center;}#sk-container-id-1 label.sk-toggleable__label-arrow:before {content: \"▸\";float: left;margin-right: 0.25em;color: #696969;}#sk-container-id-1 label.sk-toggleable__label-arrow:hover:before {color: black;}#sk-container-id-1 div.sk-estimator:hover label.sk-toggleable__label-arrow:before {color: black;}#sk-container-id-1 div.sk-toggleable__content {max-height: 0;max-width: 0;overflow: hidden;text-align: left;background-color: #f0f8ff;}#sk-container-id-1 div.sk-toggleable__content pre {margin: 0.2em;color: black;border-radius: 0.25em;background-color: #f0f8ff;}#sk-container-id-1 input.sk-toggleable__control:checked~div.sk-toggleable__content {max-height: 200px;max-width: 100%;overflow: auto;}#sk-container-id-1 input.sk-toggleable__control:checked~label.sk-toggleable__label-arrow:before {content: \"▾\";}#sk-container-id-1 div.sk-estimator input.sk-toggleable__control:checked~label.sk-toggleable__label {background-color: #d4ebff;}#sk-container-id-1 div.sk-label input.sk-toggleable__control:checked~label.sk-toggleable__label {background-color: #d4ebff;}#sk-container-id-1 input.sk-hidden--visually {border: 0;clip: rect(1px 1px 1px 1px);clip: rect(1px, 1px, 1px, 1px);height: 1px;margin: -1px;overflow: hidden;padding: 0;position: absolute;width: 1px;}#sk-container-id-1 div.sk-estimator {font-family: monospace;background-color: #f0f8ff;border: 1px dotted black;border-radius: 0.25em;box-sizing: border-box;margin-bottom: 0.5em;}#sk-container-id-1 div.sk-estimator:hover {background-color: #d4ebff;}#sk-container-id-1 div.sk-parallel-item::after {content: \"\";width: 100%;border-bottom: 1px solid gray;flex-grow: 1;}#sk-container-id-1 div.sk-label:hover label.sk-toggleable__label {background-color: #d4ebff;}#sk-container-id-1 div.sk-serial::before {content: \"\";position: absolute;border-left: 1px solid gray;box-sizing: border-box;top: 0;bottom: 0;left: 50%;z-index: 0;}#sk-container-id-1 div.sk-serial {display: flex;flex-direction: column;align-items: center;background-color: white;padding-right: 0.2em;padding-left: 0.2em;position: relative;}#sk-container-id-1 div.sk-item {position: relative;z-index: 1;}#sk-container-id-1 div.sk-parallel {display: flex;align-items: stretch;justify-content: center;background-color: white;position: relative;}#sk-container-id-1 div.sk-item::before, #sk-container-id-1 div.sk-parallel-item::before {content: \"\";position: absolute;border-left: 1px solid gray;box-sizing: border-box;top: 0;bottom: 0;left: 50%;z-index: -1;}#sk-container-id-1 div.sk-parallel-item {display: flex;flex-direction: column;z-index: 1;position: relative;background-color: white;}#sk-container-id-1 div.sk-parallel-item:first-child::after {align-self: flex-end;width: 50%;}#sk-container-id-1 div.sk-parallel-item:last-child::after {align-self: flex-start;width: 50%;}#sk-container-id-1 div.sk-parallel-item:only-child::after {width: 0;}#sk-container-id-1 div.sk-dashed-wrapped {border: 1px dashed gray;margin: 0 0.4em 0.5em 0.4em;box-sizing: border-box;padding-bottom: 0.4em;background-color: white;}#sk-container-id-1 div.sk-label label {font-family: monospace;font-weight: bold;display: inline-block;line-height: 1.2em;}#sk-container-id-1 div.sk-label-container {text-align: center;}#sk-container-id-1 div.sk-container {/* jupyter's `normalize.less` sets `[hidden] { display: none; }` but bootstrap.min.css set `[hidden] { display: none !important; }` so we also need the `!important` here to be able to override the default hidden behavior on the sphinx rendered scikit-learn.org. See: https://github.com/scikit-learn/scikit-learn/issues/21755 */display: inline-block !important;position: relative;}#sk-container-id-1 div.sk-text-repr-fallback {display: none;}</style><div id=\"sk-container-id-1\" class=\"sk-top-container\"><div class=\"sk-text-repr-fallback\"><pre>KMeans(n_clusters=3, random_state=0)</pre><b>In a Jupyter environment, please rerun this cell to show the HTML representation or trust the notebook. <br />On GitHub, the HTML representation is unable to render, please try loading this page with nbviewer.org.</b></div><div class=\"sk-container\" hidden><div class=\"sk-item\"><div class=\"sk-estimator sk-toggleable\"><input class=\"sk-toggleable__control sk-hidden--visually\" id=\"sk-estimator-id-1\" type=\"checkbox\" checked><label for=\"sk-estimator-id-1\" class=\"sk-toggleable__label sk-toggleable__label-arrow\">KMeans</label><div class=\"sk-toggleable__content\"><pre>KMeans(n_clusters=3, random_state=0)</pre></div></div></div></div></div>"
      ],
      "text/plain": [
       "KMeans(n_clusters=3, random_state=0)"
      ]
     },
     "execution_count": 42,
     "metadata": {},
     "output_type": "execute_result"
    }
   ],
   "source": [
    "kmeans.fit(x_train)"
   ]
  },
  {
   "cell_type": "code",
   "execution_count": 43,
   "id": "d4064d6c",
   "metadata": {},
   "outputs": [],
   "source": [
    "dist=kmeans.inertia_"
   ]
  },
  {
   "cell_type": "code",
   "execution_count": 44,
   "id": "3be5ad63",
   "metadata": {},
   "outputs": [
    {
     "data": {
      "text/plain": [
       "34995322.44266147"
      ]
     },
     "execution_count": 44,
     "metadata": {},
     "output_type": "execute_result"
    }
   ],
   "source": [
    "dist"
   ]
  },
  {
   "cell_type": "code",
   "execution_count": 49,
   "id": "d54c21e0",
   "metadata": {},
   "outputs": [],
   "source": [
    "df_train['cluster_label']=kmeans.labels_"
   ]
  },
  {
   "cell_type": "code",
   "execution_count": 50,
   "id": "b6ffe49b",
   "metadata": {},
   "outputs": [
    {
     "data": {
      "text/plain": [
       "0    14831\n",
       "2    13184\n",
       "1     8737\n",
       "Name: cluster_label, dtype: int64"
      ]
     },
     "execution_count": 50,
     "metadata": {},
     "output_type": "execute_result"
    }
   ],
   "source": [
    "df_train['cluster_label'].value_counts()"
   ]
  },
  {
   "cell_type": "code",
   "execution_count": 51,
   "id": "8821bf7b",
   "metadata": {},
   "outputs": [],
   "source": [
    "test_clusters = kmeans.predict(df_test)"
   ]
  },
  {
   "cell_type": "code",
   "execution_count": 52,
   "id": "716ac09a",
   "metadata": {},
   "outputs": [],
   "source": [
    "df_test['cluster_label']=test_clusters"
   ]
  },
  {
   "cell_type": "code",
   "execution_count": 53,
   "id": "cfb8cb13",
   "metadata": {},
   "outputs": [
    {
     "data": {
      "text/plain": [
       "0    6307\n",
       "2    5701\n",
       "1    3744\n",
       "Name: cluster_label, dtype: int64"
      ]
     },
     "execution_count": 53,
     "metadata": {},
     "output_type": "execute_result"
    }
   ],
   "source": [
    "df_test['cluster_label'].value_counts()"
   ]
  },
  {
   "cell_type": "code",
   "execution_count": null,
   "id": "bc2dec82",
   "metadata": {},
   "outputs": [],
   "source": []
  },
  {
   "cell_type": "code",
   "execution_count": null,
   "id": "fc18fab1",
   "metadata": {},
   "outputs": [],
   "source": []
  },
  {
   "cell_type": "code",
   "execution_count": null,
   "id": "9f8d54f0",
   "metadata": {},
   "outputs": [],
   "source": []
  },
  {
   "cell_type": "code",
   "execution_count": null,
   "id": "cca3bdd7",
   "metadata": {},
   "outputs": [],
   "source": []
  },
  {
   "cell_type": "code",
   "execution_count": null,
   "id": "bcfbc8fa",
   "metadata": {},
   "outputs": [],
   "source": []
  },
  {
   "cell_type": "code",
   "execution_count": null,
   "id": "5317854a",
   "metadata": {},
   "outputs": [],
   "source": []
  },
  {
   "cell_type": "code",
   "execution_count": null,
   "id": "8ba71fce",
   "metadata": {},
   "outputs": [],
   "source": []
  },
  {
   "cell_type": "code",
   "execution_count": null,
   "id": "9c40abd0",
   "metadata": {},
   "outputs": [],
   "source": []
  },
  {
   "cell_type": "code",
   "execution_count": null,
   "id": "dcc70a4e",
   "metadata": {},
   "outputs": [],
   "source": []
  }
 ],
 "metadata": {
  "kernelspec": {
   "display_name": "Python 3 (ipykernel)",
   "language": "python",
   "name": "python3"
  },
  "language_info": {
   "codemirror_mode": {
    "name": "ipython",
    "version": 3
   },
   "file_extension": ".py",
   "mimetype": "text/x-python",
   "name": "python",
   "nbconvert_exporter": "python",
   "pygments_lexer": "ipython3",
   "version": "3.9.12"
  }
 },
 "nbformat": 4,
 "nbformat_minor": 5
}
